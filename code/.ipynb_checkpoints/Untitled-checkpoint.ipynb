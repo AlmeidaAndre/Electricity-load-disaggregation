{
 "cells": [
  {
   "cell_type": "code",
   "execution_count": 1,
   "metadata": {
    "collapsed": false
   },
   "outputs": [
    {
     "name": "stderr",
     "output_type": "stream",
     "text": [
      "/Users/nelly/anaconda/lib/python2.7/site-packages/pandas/computation/__init__.py:19: UserWarning: The installed version of numexpr 2.4.4 is not supported in pandas and will be not be used\n",
      "\n",
      "  UserWarning)\n"
     ]
    }
   ],
   "source": [
    "import cPickle as pk\n",
    "import json\n",
    "from DataStore import DataStore\n",
    "import pandas as pd\n",
    "import numpy as np\n",
    "from FHMM import FHMM\n",
    "from HMM import HMM, HMM_MAD, perc_std_expl,r2\n",
    "from Preprocessing import Create_combined_states, Appliance, train_test_split,create_matrix\n",
    "import math"
   ]
  },
  {
   "cell_type": "code",
   "execution_count": 3,
   "metadata": {
    "collapsed": false
   },
   "outputs": [
    {
     "name": "stdout",
     "output_type": "stream",
     "text": [
      "Creating data frame for channel_1\n",
      "Done\n",
      "Creating data frame for channel_8\n",
      "Done\n",
      "Creating data frame for channel_12\n",
      "Done\n",
      "Creating data frame for channel_13\n",
      "Done\n",
      "Creating data frame for channel_14\n",
      "Done\n"
     ]
    }
   ],
   "source": [
    "DStore = DataStore('ngalvbucket1', 'house_2')\n",
    "all_channels = [1,8,12,13,14]\n",
    "select_channels = [8,12,13,14]\n",
    "DStore.create_store(all_channels)"
   ]
  },
  {
   "cell_type": "code",
   "execution_count": null,
   "metadata": {
    "collapsed": true
   },
   "outputs": [],
   "source": [
    "combined = DStore.create_combined_df('2013-06-01 00:00:00', '2013-10-31 23:59:59', select_channels = select_channels, freq='1Min')\n",
    "train_set, test_set1, test_set2 = train_test_split(combined,'2013-07-31 23:59:59','2013-08-31 23:59:59')\n"
   ]
  },
  {
   "cell_type": "code",
   "execution_count": null,
   "metadata": {
    "collapsed": true
   },
   "outputs": [],
   "source": []
  },
  {
   "cell_type": "code",
   "execution_count": 2,
   "metadata": {
    "collapsed": true
   },
   "outputs": [],
   "source": [
    "def perc_std_expl_full(pred_df,obs_df):\n",
    "    \"\"\"\n",
    "    :param observed: df of observed energy levels per channel\n",
    "    :param predicted: df of predicted energy levels per channel\n",
    "    :return: percentage of standard deviation explained\n",
    "    \"\"\"\n",
    "    return_dict = {}\n",
    "    for channel in pred_df:\n",
    "        X_pred = pred_df[[channel]].values\n",
    "        X_obs = obs_df[[channel]].values\n",
    "        obs_mean = np.mean(X_obs)\n",
    "        r2 = 1 - (np.sum((X_obs - X_pred)**2))/np.sum((X_obs - obs_mean)**2)\n",
    "        return_dict[channel] = 1 - math.sqrt(1-r2)\n",
    "    return return_dict\n",
    "\n",
    "def r2_full(pred_df,obs_df):\n",
    "    return_dict = {}\n",
    "    for channel in pred_df:\n",
    "        X_pred = pred_df[[channel]].values\n",
    "        X_obs = obs_df[[channel]].values\n",
    "        obs_mean = np.mean(X_obs)\n",
    "        r2 = 1 - (np.sum((X_obs - X_pred)**2))/np.sum((X_obs - obs_mean)**2)\n",
    "        return_dict[channel] = r2\n",
    "    return return_dict"
   ]
  },
  {
   "cell_type": "code",
   "execution_count": null,
   "metadata": {
    "collapsed": true
   },
   "outputs": [],
   "source": [
    "with open('/Users/nelly/Galvanize/Capstone/Electricity-load-prediction/data/combined.pkl') as f:\n",
    "    total = pk.load(f)\n",
    "\n",
    "print total.head()\n",
    "combined = total['2013-06-01 00:00:00': '2013-09-30 23:59:59'][['channel_12','channel_5','channel_6','channel_3']]\n",
    "\n",
    "train_set, test_set1, test_set2 = train_test_split(combined,'2013-07-31 23:59:59','2013-08-31 23:59:59')\n",
    "app_train_list = []\n",
    "app_test_list1 = []\n",
    "app_test_list2 = []\n",
    "\n",
    "for channel in combined.columns:\n",
    "    app_train_list.append(Appliance(channel,train_set[[channel]]))\n",
    "    app_test_list1.append(Appliance(channel,test_set1[[channel]]))\n",
    "    app_test_list2.append(Appliance(channel,test_set2[[channel]]))\n",
    "\n",
    "num_states_dict={}\n",
    "ModelDict = {}\n",
    "\n",
    "for i,app in enumerate(app_train_list):\n",
    "    X_train = create_matrix(app,good_chunks = True)\n",
    "    X_test = create_matrix(app_test_list1[i],good_chunks = False)\n",
    "    hmm = HMM(X_train,X_test)\n",
    "    print app.name\n",
    "    hmm.fit_HMM(perc_std_expl)\n",
    "    ModelDict[app.name] = hmm.model\n",
    "    num_states_dict[app.name] = hmm.n_states\n",
    "\n",
    "fhmm = FHMM()\n",
    "fhmm.train(app_train_list,num_states_dict = num_states_dict)\n"
   ]
  }
 ],
 "metadata": {
  "kernelspec": {
   "display_name": "Python 2",
   "language": "python",
   "name": "python2"
  },
  "language_info": {
   "codemirror_mode": {
    "name": "ipython",
    "version": 2
   },
   "file_extension": ".py",
   "mimetype": "text/x-python",
   "name": "python",
   "nbconvert_exporter": "python",
   "pygments_lexer": "ipython2",
   "version": "2.7.11"
  }
 },
 "nbformat": 4,
 "nbformat_minor": 0
}
