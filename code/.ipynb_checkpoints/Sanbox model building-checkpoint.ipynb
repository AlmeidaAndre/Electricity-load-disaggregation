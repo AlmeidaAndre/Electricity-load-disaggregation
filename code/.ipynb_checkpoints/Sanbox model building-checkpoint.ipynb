{
 "cells": [
  {
   "cell_type": "code",
   "execution_count": 13,
   "metadata": {
    "collapsed": false
   },
   "outputs": [],
   "source": [
    "import pandas as pd\n",
    "import numpy as np\n",
    "from matplotlib import cm, pyplot as plt\n",
    "from matplotlib.dates import YearLocator, MonthLocator\n",
    "import cPickle as pk\n",
    "from hmmlearn.hmm import GaussianHMM\n",
    "from sklearn.cluster import KMeans\n",
    "\n",
    "%matplotlib inline"
   ]
  },
  {
   "cell_type": "code",
   "execution_count": 20,
   "metadata": {
    "collapsed": false
   },
   "outputs": [],
   "source": [
    "with open('/Users/nelly/Galvanize/Capstone/Electricity-load-prediction/data/house_1/4app_train.pkl') as f:\n",
    "    four_app_train = pk.load(f)\n",
    "with open('/Users/nelly/Galvanize/Capstone/Electricity-load-prediction/data/house_1/4app_test.pkl') as f:\n",
    "    four_app_test = pk.load(f)"
   ]
  },
  {
   "cell_type": "code",
   "execution_count": 25,
   "metadata": {
    "collapsed": false
   },
   "outputs": [],
   "source": [
    "four_app_train.fillna(value = 0,inplace = True)\n",
    "four_app_test.fillna(value = 0,inplace = True)"
   ]
  },
  {
   "cell_type": "code",
   "execution_count": 26,
   "metadata": {
    "collapsed": false
   },
   "outputs": [],
   "source": [
    "X_train = four_app_train[['channel_12']].values\n",
    "X_test = four_app_test[['channel_12']].values\n"
   ]
  },
  {
   "cell_type": "markdown",
   "metadata": {},
   "source": [
    "# Apply K-means to identify possible number of states"
   ]
  },
  {
   "cell_type": "code",
   "execution_count": 33,
   "metadata": {
    "collapsed": false
   },
   "outputs": [
    {
     "name": "stdout",
     "output_type": "stream",
     "text": [
      "[ 1834008.24873957]\n"
     ]
    }
   ],
   "source": [
    "def fit_Kmeans(X_train,X_test, n_clusters):\n",
    "    kmeans = KMeans(n_clusters = n_clusters).fit(X_train)\n",
    "    centroids = kmeans.cluster_centers_ \n",
    "    pred_train = kmeans.predict(X_train)\n",
    "    pred_test = kmeans\n",
    "    return SSE_train, SSE_test\n",
    "\n",
    "centroids = kmeans.cluster_centers_ \n",
    "predict = kmeans.predict(X_train)\n",
    "SSE = 0\n",
    "for idx in xrange(len(X_train)):\n",
    "    SSE += (X_train[idx]-centroids[predict[idx]])**2\n",
    "\n",
    "print SSE"
   ]
  },
  {
   "cell_type": "code",
   "execution_count": 8,
   "metadata": {
    "collapsed": false
   },
   "outputs": [
    {
     "data": {
      "text/html": [
       "<div>\n",
       "<table border=\"1\" class=\"dataframe\">\n",
       "  <thead>\n",
       "    <tr style=\"text-align: right;\">\n",
       "      <th></th>\n",
       "      <th>channel_12</th>\n",
       "      <th>channel_12_diff</th>\n",
       "      <th>channel_5</th>\n",
       "      <th>channel_5_diff</th>\n",
       "      <th>channel_7</th>\n",
       "      <th>channel_7_diff</th>\n",
       "      <th>channel_6</th>\n",
       "      <th>channel_6_diff</th>\n",
       "    </tr>\n",
       "    <tr>\n",
       "      <th>date</th>\n",
       "      <th></th>\n",
       "      <th></th>\n",
       "      <th></th>\n",
       "      <th></th>\n",
       "      <th></th>\n",
       "      <th></th>\n",
       "      <th></th>\n",
       "      <th></th>\n",
       "    </tr>\n",
       "  </thead>\n",
       "  <tbody>\n",
       "    <tr>\n",
       "      <th>2013-08-01 00:00:00</th>\n",
       "      <td>91.777778</td>\n",
       "      <td>NaN</td>\n",
       "      <td>0.0</td>\n",
       "      <td>NaN</td>\n",
       "      <td>1.000000</td>\n",
       "      <td>NaN</td>\n",
       "      <td>0.0</td>\n",
       "      <td>NaN</td>\n",
       "    </tr>\n",
       "    <tr>\n",
       "      <th>2013-08-01 00:01:00</th>\n",
       "      <td>91.428571</td>\n",
       "      <td>-0.349206</td>\n",
       "      <td>0.0</td>\n",
       "      <td>0.0</td>\n",
       "      <td>1.000000</td>\n",
       "      <td>0.000000</td>\n",
       "      <td>0.0</td>\n",
       "      <td>0.0</td>\n",
       "    </tr>\n",
       "    <tr>\n",
       "      <th>2013-08-01 00:02:00</th>\n",
       "      <td>91.875000</td>\n",
       "      <td>0.446429</td>\n",
       "      <td>0.0</td>\n",
       "      <td>0.0</td>\n",
       "      <td>1.000000</td>\n",
       "      <td>0.000000</td>\n",
       "      <td>0.0</td>\n",
       "      <td>0.0</td>\n",
       "    </tr>\n",
       "    <tr>\n",
       "      <th>2013-08-01 00:03:00</th>\n",
       "      <td>92.000000</td>\n",
       "      <td>0.125000</td>\n",
       "      <td>0.0</td>\n",
       "      <td>0.0</td>\n",
       "      <td>1.000000</td>\n",
       "      <td>0.000000</td>\n",
       "      <td>0.0</td>\n",
       "      <td>0.0</td>\n",
       "    </tr>\n",
       "    <tr>\n",
       "      <th>2013-08-01 00:04:00</th>\n",
       "      <td>92.000000</td>\n",
       "      <td>0.000000</td>\n",
       "      <td>0.0</td>\n",
       "      <td>0.0</td>\n",
       "      <td>0.888889</td>\n",
       "      <td>-0.111111</td>\n",
       "      <td>0.0</td>\n",
       "      <td>0.0</td>\n",
       "    </tr>\n",
       "  </tbody>\n",
       "</table>\n",
       "</div>"
      ],
      "text/plain": [
       "                     channel_12  channel_12_diff  channel_5  channel_5_diff  \\\n",
       "date                                                                          \n",
       "2013-08-01 00:00:00   91.777778              NaN        0.0             NaN   \n",
       "2013-08-01 00:01:00   91.428571        -0.349206        0.0             0.0   \n",
       "2013-08-01 00:02:00   91.875000         0.446429        0.0             0.0   \n",
       "2013-08-01 00:03:00   92.000000         0.125000        0.0             0.0   \n",
       "2013-08-01 00:04:00   92.000000         0.000000        0.0             0.0   \n",
       "\n",
       "                     channel_7  channel_7_diff  channel_6  channel_6_diff  \n",
       "date                                                                       \n",
       "2013-08-01 00:00:00   1.000000             NaN        0.0             NaN  \n",
       "2013-08-01 00:01:00   1.000000        0.000000        0.0             0.0  \n",
       "2013-08-01 00:02:00   1.000000        0.000000        0.0             0.0  \n",
       "2013-08-01 00:03:00   1.000000        0.000000        0.0             0.0  \n",
       "2013-08-01 00:04:00   0.888889       -0.111111        0.0             0.0  "
      ]
     },
     "execution_count": 8,
     "metadata": {},
     "output_type": "execute_result"
    }
   ],
   "source": [
    "def score(observations,states):\n",
    "    \n",
    "    \n",
    "def train_Model(X_train, X_test, n_states):\n",
    "    print(\"fitting to HMM and decoding ...\", end=\"\")\n",
    "\n",
    "    # Make an HMM instance and execute fit\n",
    "    model = GaussianHMM(n_components=n_states, covariance_type=\"diag\", n_iter=10000).fit(X_train)\n",
    "\n",
    "    # Predict the optimal sequence of internal hidden state\n",
    "    hidden_states_train = model.predict(X_train)\n",
    "    hidden_states_test = model.predcit(X_test)\n",
    "\n",
    "    print(\"done\")"
   ]
  },
  {
   "cell_type": "code",
   "execution_count": null,
   "metadata": {
    "collapsed": true
   },
   "outputs": [],
   "source": []
  }
 ],
 "metadata": {
  "kernelspec": {
   "display_name": "Python 2",
   "language": "python",
   "name": "python2"
  },
  "language_info": {
   "codemirror_mode": {
    "name": "ipython",
    "version": 2
   },
   "file_extension": ".py",
   "mimetype": "text/x-python",
   "name": "python",
   "nbconvert_exporter": "python",
   "pygments_lexer": "ipython2",
   "version": "2.7.11"
  }
 },
 "nbformat": 4,
 "nbformat_minor": 0
}
