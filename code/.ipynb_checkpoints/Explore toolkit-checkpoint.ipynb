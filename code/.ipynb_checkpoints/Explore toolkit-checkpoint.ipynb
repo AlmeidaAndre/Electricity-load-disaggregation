{
 "cells": [
  {
   "cell_type": "code",
   "execution_count": 12,
   "metadata": {
    "collapsed": false
   },
   "outputs": [],
   "source": [
    "import FHMM\n",
    "import cPickle as pk\n",
    "import pandas as pd\n",
    "from hmmlearn.hmm import GaussianHMM\n",
    "import numpy as np\n",
    "from sklearn.cluster import KMeans\n",
    "from sklearn.metrics import silhouette_score"
   ]
  },
  {
   "cell_type": "code",
   "execution_count": 4,
   "metadata": {
    "collapsed": false
   },
   "outputs": [
    {
     "name": "stdout",
     "output_type": "stream",
     "text": [
      "     0                     1\n",
      "0    1             aggregate\n",
      "1    2                boiler\n",
      "2    3    solar_thermal_pump\n",
      "3    4                laptop\n",
      "4    5       washing_machine\n",
      "5    6            dishwasher\n",
      "6    7                    tv\n",
      "7    8        kitchen_lights\n",
      "8    9                  htpc\n",
      "9   10                kettle\n",
      "10  11               toaster\n",
      "11  12                fridge\n",
      "12  13             microwave\n",
      "13  14            lcd_office\n",
      "14  15           hifi_office\n",
      "15  16            breadmaker\n",
      "16  17        amp_livingroom\n",
      "17  18           adsl_router\n",
      "18  19     livingroom_s_lamp\n",
      "19  20        soldering_iron\n",
      "20  21         gigE_&_USBhub\n",
      "21  22                hoover\n",
      "22  23       kitchen_dt_lamp\n",
      "23  24       bedroom_ds_lamp\n",
      "24  25      lighting_circuit\n",
      "25  26    livingroom_s_lamp2\n",
      "26  27          iPad_charger\n",
      "27  28  subwoofer_livingroom\n",
      "28  29    livingroom_lamp_tv\n",
      "29  30  DAB_radio_livingroom\n",
      "30  31         kitchen_lamp2\n",
      "31  32  kitchen_phone&stereo\n",
      "32  33        utilityrm_lamp\n",
      "33  34       samsung_charger\n",
      "34  35        bedroom_d_lamp\n",
      "35  36        coffee_machine\n",
      "36  37         kitchen_radio\n",
      "37  38      bedroom_chargers\n",
      "38  39            hair_dryer\n",
      "39  40         straighteners\n",
      "40  41                  iron\n",
      "41  42              gas_oven\n",
      "42  43        data_logger_pc\n",
      "43  44     childs_table_lamp\n",
      "44  45        childs_ds_lamp\n",
      "45  46       baby_monitor_tx\n",
      "46  47       battery_charger\n",
      "47  48          office_lamp1\n",
      "48  49          office_lamp2\n",
      "49  50          office_lamp3\n",
      "50  51             office_pc\n",
      "51  52            office_fan\n",
      "52  53           LED_printer\n"
     ]
    }
   ],
   "source": [
    "labels = pd.read_table('../data/labels.dat',sep=' ',header=None)\n",
    "print labels"
   ]
  },
  {
   "cell_type": "code",
   "execution_count": 5,
   "metadata": {
    "collapsed": true
   },
   "outputs": [],
   "source": [
    "class Appliance():\n",
    "    def __init__(self, name, power_data):\n",
    "        self.name =  name\n",
    "        self.power_data = power_data"
   ]
  },
  {
   "cell_type": "code",
   "execution_count": 6,
   "metadata": {
    "collapsed": false
   },
   "outputs": [],
   "source": [
    "with open('/Users/nelly/Galvanize/Capstone/Electricity-load-prediction/data/4app_train.pkl') as f:\n",
    "    four_app_train = pk.load(f)\n",
    "\n",
    "with open('/Users/nelly/Galvanize/Capstone/Electricity-load-prediction/data/4app_test.pkl') as f:\n",
    "    four_app_test = pk.load(f)"
   ]
  },
  {
   "cell_type": "code",
   "execution_count": 7,
   "metadata": {
    "collapsed": true
   },
   "outputs": [],
   "source": [
    "app_train_list = []\n",
    "app_test_list = []\n",
    "for channel in four_app_train.columns[::2]:\n",
    "    app_train_list.append(Appliance(channel,four_app_train[[channel]]))\n",
    "    app_test_list.append(Appliance(channel,four_app_test[[channel]]))"
   ]
  },
  {
   "cell_type": "code",
   "execution_count": 8,
   "metadata": {
    "collapsed": false
   },
   "outputs": [
    {
     "name": "stdout",
     "output_type": "stream",
     "text": [
      "<class 'pandas.core.frame.DataFrame'>\n",
      "DatetimeIndex: 44640 entries, 2013-06-01 00:00:00 to 2013-07-01 23:59:00\n",
      "Freq: T\n",
      "Data columns (total 1 columns):\n",
      "channel_12    44634 non-null float64\n",
      "dtypes: float64(1)\n",
      "memory usage: 697.5 KB\n"
     ]
    }
   ],
   "source": [
    "app_train_list[0].power_data.info()"
   ]
  },
  {
   "cell_type": "code",
   "execution_count": 9,
   "metadata": {
    "collapsed": false
   },
   "outputs": [
    {
     "name": "stdout",
     "output_type": "stream",
     "text": [
      "[array([[ 88.125     ],\n",
      "       [ 83.55555556],\n",
      "       [ 83.42857143],\n",
      "       ..., \n",
      "       [ 88.11111111],\n",
      "       [ 87.44444444],\n",
      "       [ 86.77777778]])]\n"
     ]
    }
   ],
   "source": [
    "power_data = app_train_list[0].power_data.fillna(value = 0,inplace = False)\n",
    "X = power_data.values.reshape((-1, 1))\n",
    "print [X]\n"
   ]
  },
  {
   "cell_type": "code",
   "execution_count": 11,
   "metadata": {
    "collapsed": false
   },
   "outputs": [
    {
     "data": {
      "text/plain": [
       "KMeans(copy_x=True, init='k-means++', max_iter=300, n_clusters=2, n_init=10,\n",
       "    n_jobs=-1, precompute_distances='auto', random_state=None, tol=0.0001,\n",
       "    verbose=0)"
      ]
     },
     "execution_count": 11,
     "metadata": {},
     "output_type": "execute_result"
    }
   ],
   "source": [
    "kmeans = KMeans(n_clusters=2,n_jobs=-1)\n",
    "kmeans.fit(X)"
   ]
  },
  {
   "cell_type": "code",
   "execution_count": null,
   "metadata": {
    "collapsed": true
   },
   "outputs": [],
   "source": [
    "predictX = kmeans.predict(X)\n",
    "sh_score = silhouette_score(X, predictX)"
   ]
  },
  {
   "cell_type": "code",
   "execution_count": 7,
   "metadata": {
    "collapsed": true
   },
   "outputs": [],
   "source": [
    "num_states_dict={}\n",
    "for channel in four_app_train.columns[::2]:\n",
    "    num_states_dict[channel]=2"
   ]
  },
  {
   "cell_type": "code",
   "execution_count": 8,
   "metadata": {
    "collapsed": false
   },
   "outputs": [
    {
     "name": "stdout",
     "output_type": "stream",
     "text": [
      "Training model for appliance 'channel_12 with 2 hidden states'\n"
     ]
    },
    {
     "ename": "AttributeError",
     "evalue": "'GaussianHMM' object has no attribute 'startprob_'",
     "output_type": "error",
     "traceback": [
      "\u001b[0;31m---------------------------------------------------------------------------\u001b[0m",
      "\u001b[0;31mAttributeError\u001b[0m                            Traceback (most recent call last)",
      "\u001b[0;32m<ipython-input-8-96757ea19eef>\u001b[0m in \u001b[0;36m<module>\u001b[0;34m()\u001b[0m\n\u001b[1;32m      1\u001b[0m \u001b[0mfhmm\u001b[0m \u001b[0;34m=\u001b[0m \u001b[0mFHMM\u001b[0m\u001b[0;34m.\u001b[0m\u001b[0mFHMM\u001b[0m\u001b[0;34m(\u001b[0m\u001b[0;34m)\u001b[0m\u001b[0;34m\u001b[0m\u001b[0m\n\u001b[0;32m----> 2\u001b[0;31m \u001b[0mfhmm\u001b[0m\u001b[0;34m.\u001b[0m\u001b[0mtrain\u001b[0m\u001b[0;34m(\u001b[0m\u001b[0;34m[\u001b[0m\u001b[0mapp_train_list\u001b[0m\u001b[0;34m[\u001b[0m\u001b[0;36m0\u001b[0m\u001b[0;34m]\u001b[0m\u001b[0;34m]\u001b[0m\u001b[0;34m,\u001b[0m \u001b[0mnum_states_dict\u001b[0m \u001b[0;34m=\u001b[0m \u001b[0mnum_states_dict\u001b[0m\u001b[0;34m)\u001b[0m\u001b[0;34m\u001b[0m\u001b[0m\n\u001b[0m",
      "\u001b[0;32m/Users/nelly/Galvanize/Capstone/Electricity-load-prediction/code/FHMM.py\u001b[0m in \u001b[0;36mtrain\u001b[0;34m(self, appliances, num_states_dict, **load_kwargs)\u001b[0m\n\u001b[1;32m    208\u001b[0m             \u001b[0mself\u001b[0m\u001b[0;34m.\u001b[0m\u001b[0mmeters\u001b[0m\u001b[0;34m.\u001b[0m\u001b[0mappend\u001b[0m\u001b[0;34m(\u001b[0m\u001b[0mmeter\u001b[0m\u001b[0;34m)\u001b[0m\u001b[0;34m\u001b[0m\u001b[0m\n\u001b[1;32m    209\u001b[0m \u001b[0;34m\u001b[0m\u001b[0m\n\u001b[0;32m--> 210\u001b[0;31m         \u001b[0mlearnt_model_combined\u001b[0m \u001b[0;34m=\u001b[0m \u001b[0mcreate_combined_hmm\u001b[0m\u001b[0;34m(\u001b[0m\u001b[0mnew_learnt_models\u001b[0m\u001b[0;34m)\u001b[0m\u001b[0;34m\u001b[0m\u001b[0m\n\u001b[0m\u001b[1;32m    211\u001b[0m         \u001b[0mself\u001b[0m\u001b[0;34m.\u001b[0m\u001b[0mindividual\u001b[0m \u001b[0;34m=\u001b[0m \u001b[0mnew_learnt_models\u001b[0m\u001b[0;34m\u001b[0m\u001b[0m\n\u001b[1;32m    212\u001b[0m         \u001b[0mself\u001b[0m\u001b[0;34m.\u001b[0m\u001b[0mmodel\u001b[0m \u001b[0;34m=\u001b[0m \u001b[0mlearnt_model_combined\u001b[0m\u001b[0;34m\u001b[0m\u001b[0m\n",
      "\u001b[0;32m/Users/nelly/Galvanize/Capstone/Electricity-load-prediction/code/FHMM.py\u001b[0m in \u001b[0;36mcreate_combined_hmm\u001b[0;34m(model)\u001b[0m\n\u001b[1;32m     94\u001b[0m \u001b[0;34m\u001b[0m\u001b[0m\n\u001b[1;32m     95\u001b[0m \u001b[0;32mdef\u001b[0m \u001b[0mcreate_combined_hmm\u001b[0m\u001b[0;34m(\u001b[0m\u001b[0mmodel\u001b[0m\u001b[0;34m)\u001b[0m\u001b[0;34m:\u001b[0m\u001b[0;34m\u001b[0m\u001b[0m\n\u001b[0;32m---> 96\u001b[0;31m     \u001b[0mlist_pi\u001b[0m \u001b[0;34m=\u001b[0m \u001b[0;34m[\u001b[0m\u001b[0mmodel\u001b[0m\u001b[0;34m[\u001b[0m\u001b[0mappliance\u001b[0m\u001b[0;34m]\u001b[0m\u001b[0;34m.\u001b[0m\u001b[0mstartprob_\u001b[0m \u001b[0;32mfor\u001b[0m \u001b[0mappliance\u001b[0m \u001b[0;32min\u001b[0m \u001b[0mmodel\u001b[0m\u001b[0;34m]\u001b[0m\u001b[0;34m\u001b[0m\u001b[0m\n\u001b[0m\u001b[1;32m     97\u001b[0m     \u001b[0mlist_A\u001b[0m \u001b[0;34m=\u001b[0m \u001b[0;34m[\u001b[0m\u001b[0mmodel\u001b[0m\u001b[0;34m[\u001b[0m\u001b[0mappliance\u001b[0m\u001b[0;34m]\u001b[0m\u001b[0;34m.\u001b[0m\u001b[0mtransmat_\u001b[0m \u001b[0;32mfor\u001b[0m \u001b[0mappliance\u001b[0m \u001b[0;32min\u001b[0m \u001b[0mmodel\u001b[0m\u001b[0;34m]\u001b[0m\u001b[0;34m\u001b[0m\u001b[0m\n\u001b[1;32m     98\u001b[0m     list_means = [model[appliance].means_.flatten().tolist()\n",
      "\u001b[0;31mAttributeError\u001b[0m: 'GaussianHMM' object has no attribute 'startprob_'"
     ]
    }
   ],
   "source": [
    "fhmm = FHMM.FHMM()\n",
    "fhmm.train([app_train_list[0]], num_states_dict = num_states_dict)"
   ]
  },
  {
   "cell_type": "code",
   "execution_count": 24,
   "metadata": {
    "collapsed": false
   },
   "outputs": [],
   "source": [
    "data = app_train_list[0].power_data\n",
    "X = data.fillna(value = 0,inplace = False)\n",
    "# X = power_data.values.reshape((-1, 1))\n"
   ]
  },
  {
   "cell_type": "code",
   "execution_count": 25,
   "metadata": {
    "collapsed": true
   },
   "outputs": [],
   "source": []
  },
  {
   "cell_type": "code",
   "execution_count": null,
   "metadata": {
    "collapsed": false,
    "scrolled": true
   },
   "outputs": [
    {
     "name": "stderr",
     "output_type": "stream",
     "text": [
      "Process PoolWorker-12:\n",
      "Process PoolWorker-9:\n",
      "Process PoolWorker-11:\n",
      "Process PoolWorker-10:\n",
      "Traceback (most recent call last):\n",
      "Traceback (most recent call last):\n",
      "Traceback (most recent call last):\n",
      "Traceback (most recent call last):\n",
      "  File \"/Users/nelly/anaconda/lib/python2.7/multiprocessing/process.py\", line 258, in _bootstrap\n",
      "  File \"/Users/nelly/anaconda/lib/python2.7/multiprocessing/process.py\", line 258, in _bootstrap\n",
      "  File \"/Users/nelly/anaconda/lib/python2.7/multiprocessing/process.py\", line 258, in _bootstrap\n",
      "    self.run()\n",
      "  File \"/Users/nelly/anaconda/lib/python2.7/multiprocessing/process.py\", line 258, in _bootstrap\n",
      "    self.run()\n",
      "  File \"/Users/nelly/anaconda/lib/python2.7/multiprocessing/process.py\", line 114, in run\n",
      "  File \"/Users/nelly/anaconda/lib/python2.7/multiprocessing/process.py\", line 114, in run\n",
      "    self._target(*self._args, **self._kwargs)\n",
      "    self.run()\n",
      "    self._target(*self._args, **self._kwargs)\n",
      "  File \"/Users/nelly/anaconda/lib/python2.7/multiprocessing/pool.py\", line 102, in worker\n",
      "  File \"/Users/nelly/anaconda/lib/python2.7/multiprocessing/process.py\", line 114, in run\n",
      "    self.run()\n",
      "    self._target(*self._args, **self._kwargs)\n",
      "  File \"/Users/nelly/anaconda/lib/python2.7/multiprocessing/pool.py\", line 102, in worker\n",
      "  File \"/Users/nelly/anaconda/lib/python2.7/multiprocessing/process.py\", line 114, in run\n",
      "  File \"/Users/nelly/anaconda/lib/python2.7/multiprocessing/pool.py\", line 102, in worker\n",
      "    task = get()\n",
      "    task = get()\n",
      "    task = get()\n",
      "    self._target(*self._args, **self._kwargs)\n",
      "  File \"/Users/nelly/anaconda/lib/python2.7/site-packages/sklearn/externals/joblib/pool.py\", line 359, in get\n",
      "  File \"/Users/nelly/anaconda/lib/python2.7/site-packages/sklearn/externals/joblib/pool.py\", line 357, in get\n",
      "  File \"/Users/nelly/anaconda/lib/python2.7/site-packages/sklearn/externals/joblib/pool.py\", line 357, in get\n",
      "  File \"/Users/nelly/anaconda/lib/python2.7/multiprocessing/pool.py\", line 102, in worker\n",
      "    racquire()\n",
      "    racquire()\n",
      "    return recv()\n",
      "KeyboardInterrupt\n",
      "    task = get()\n",
      "KeyboardInterrupt\n",
      "  File \"/Users/nelly/anaconda/lib/python2.7/site-packages/sklearn/externals/joblib/pool.py\", line 357, in get\n",
      "KeyboardInterrupt\n",
      "    racquire()\n",
      "KeyboardInterrupt\n",
      "Process PoolWorker-15:\n",
      "Process PoolWorker-14:\n",
      "Process PoolWorker-16:\n",
      "Process PoolWorker-13:\n",
      "Traceback (most recent call last):\n",
      "Traceback (most recent call last):\n",
      "Traceback (most recent call last):\n",
      "Traceback (most recent call last):\n",
      "  File \"/Users/nelly/anaconda/lib/python2.7/multiprocessing/process.py\", line 258, in _bootstrap\n",
      "  File \"/Users/nelly/anaconda/lib/python2.7/multiprocessing/process.py\", line 258, in _bootstrap\n",
      "  File \"/Users/nelly/anaconda/lib/python2.7/multiprocessing/process.py\", line 258, in _bootstrap\n",
      "    self.run()\n",
      "  File \"/Users/nelly/anaconda/lib/python2.7/multiprocessing/process.py\", line 258, in _bootstrap\n",
      "    self.run()\n",
      "    self.run()\n",
      "  File \"/Users/nelly/anaconda/lib/python2.7/multiprocessing/process.py\", line 114, in run\n",
      "    self.run()\n",
      "  File \"/Users/nelly/anaconda/lib/python2.7/multiprocessing/process.py\", line 114, in run\n",
      "    self._target(*self._args, **self._kwargs)\n",
      "  File \"/Users/nelly/anaconda/lib/python2.7/multiprocessing/process.py\", line 114, in run\n",
      "  File \"/Users/nelly/anaconda/lib/python2.7/multiprocessing/process.py\", line 114, in run\n",
      "    self._target(*self._args, **self._kwargs)\n",
      "  File \"/Users/nelly/anaconda/lib/python2.7/multiprocessing/pool.py\", line 102, in worker\n",
      "    self._target(*self._args, **self._kwargs)\n",
      "    self._target(*self._args, **self._kwargs)\n",
      "  File \"/Users/nelly/anaconda/lib/python2.7/multiprocessing/pool.py\", line 102, in worker\n",
      "    task = get()\n",
      "  File \"/Users/nelly/anaconda/lib/python2.7/multiprocessing/pool.py\", line 102, in worker\n",
      "  File \"/Users/nelly/anaconda/lib/python2.7/multiprocessing/pool.py\", line 102, in worker\n",
      "    task = get()\n",
      "  File \"/Users/nelly/anaconda/lib/python2.7/site-packages/sklearn/externals/joblib/pool.py\", line 357, in get\n",
      "    task = get()\n",
      "  File \"/Users/nelly/anaconda/lib/python2.7/site-packages/sklearn/externals/joblib/pool.py\", line 359, in get\n",
      "    racquire()\n",
      "    task = get()\n",
      "  File \"/Users/nelly/anaconda/lib/python2.7/site-packages/sklearn/externals/joblib/pool.py\", line 357, in get\n",
      "KeyboardInterrupt\n",
      "    return recv()\n",
      "  File \"/Users/nelly/anaconda/lib/python2.7/site-packages/sklearn/externals/joblib/pool.py\", line 357, in get\n",
      "    racquire()\n",
      "KeyboardInterrupt\n",
      "    racquire()\n",
      "KeyboardInterrupt\n",
      "KeyboardInterrupt\n",
      "Process PoolWorker-20:\n",
      "Process PoolWorker-19:\n",
      "Process PoolWorker-18:\n",
      "Process PoolWorker-17:\n",
      "Traceback (most recent call last):\n",
      "Traceback (most recent call last):\n",
      "Traceback (most recent call last):\n",
      "Traceback (most recent call last):\n",
      "  File \"/Users/nelly/anaconda/lib/python2.7/multiprocessing/process.py\", line 258, in _bootstrap\n",
      "  File \"/Users/nelly/anaconda/lib/python2.7/multiprocessing/process.py\", line 258, in _bootstrap\n",
      "  File \"/Users/nelly/anaconda/lib/python2.7/multiprocessing/process.py\", line 258, in _bootstrap\n",
      "  File \"/Users/nelly/anaconda/lib/python2.7/multiprocessing/process.py\", line 258, in _bootstrap\n",
      "    self.run()\n",
      "    self.run()\n",
      "    self.run()\n",
      "  File \"/Users/nelly/anaconda/lib/python2.7/multiprocessing/process.py\", line 114, in run\n",
      "    self.run()\n",
      "    self._target(*self._args, **self._kwargs)\n",
      "  File \"/Users/nelly/anaconda/lib/python2.7/multiprocessing/process.py\", line 114, in run\n",
      "  File \"/Users/nelly/anaconda/lib/python2.7/multiprocessing/pool.py\", line 102, in worker\n",
      "  File \"/Users/nelly/anaconda/lib/python2.7/multiprocessing/process.py\", line 114, in run\n",
      "  File \"/Users/nelly/anaconda/lib/python2.7/multiprocessing/process.py\", line 114, in run\n",
      "    self._target(*self._args, **self._kwargs)\n",
      "    self._target(*self._args, **self._kwargs)\n",
      "    task = get()\n",
      "  File \"/Users/nelly/anaconda/lib/python2.7/multiprocessing/pool.py\", line 102, in worker\n",
      "  File \"/Users/nelly/anaconda/lib/python2.7/multiprocessing/pool.py\", line 102, in worker\n",
      "  File \"/Users/nelly/anaconda/lib/python2.7/site-packages/sklearn/externals/joblib/pool.py\", line 357, in get\n",
      "    task = get()\n",
      "    self._target(*self._args, **self._kwargs)\n",
      "    racquire()\n",
      "  File \"/Users/nelly/anaconda/lib/python2.7/site-packages/sklearn/externals/joblib/pool.py\", line 357, in get\n",
      "  File \"/Users/nelly/anaconda/lib/python2.7/multiprocessing/pool.py\", line 102, in worker\n",
      "    task = get()\n",
      "KeyboardInterrupt\n",
      "    racquire()\n",
      "    task = get()\n",
      "KeyboardInterrupt\n",
      "  File \"/Users/nelly/anaconda/lib/python2.7/site-packages/sklearn/externals/joblib/pool.py\", line 357, in get\n",
      "  File \"/Users/nelly/anaconda/lib/python2.7/site-packages/sklearn/externals/joblib/pool.py\", line 359, in get\n",
      "    racquire()\n",
      "    return recv()\n",
      "KeyboardInterrupt\n",
      "KeyboardInterrupt\n"
     ]
    }
   ],
   "source": []
  },
  {
   "cell_type": "code",
   "execution_count": null,
   "metadata": {
    "collapsed": true
   },
   "outputs": [],
   "source": []
  }
 ],
 "metadata": {
  "kernelspec": {
   "display_name": "Python 2",
   "language": "python",
   "name": "python2"
  },
  "language_info": {
   "codemirror_mode": {
    "name": "ipython",
    "version": 2
   },
   "file_extension": ".py",
   "mimetype": "text/x-python",
   "name": "python",
   "nbconvert_exporter": "python",
   "pygments_lexer": "ipython2",
   "version": "2.7.11"
  }
 },
 "nbformat": 4,
 "nbformat_minor": 0
}
